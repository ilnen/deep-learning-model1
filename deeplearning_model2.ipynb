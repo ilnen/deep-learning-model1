{
 "cells": [
  {
   "cell_type": "markdown",
   "metadata": {},
   "source": [
    "Classificação com sklearn\n",
    "\n",
    "Referência https://analyticsindiamag.com/a-beginners-guide-to-scikit-learns-mlpclassifier/"
   ]
  },
  {
   "cell_type": "code",
   "execution_count": 1,
   "metadata": {},
   "outputs": [],
   "source": [
    "\n",
    "# Imports\n",
    "import math\n",
    "import numpy as np\n",
    "import pandas as pd\n",
    "import matplotlib.pyplot as plt\n",
    "from sklearn.model_selection import train_test_split\n",
    "from sklearn.neural_network import MLPClassifier\n",
    "from sklearn.preprocessing import StandardScaler\n",
    "from sklearn.metrics import confusion_matrix\n",
    "import os\n",
    "os.environ['TF_CPP_MIN_LOG_LEVEL'] = '3'\n"
   ]
  },
  {
   "cell_type": "code",
   "execution_count": 2,
   "metadata": {},
   "outputs": [],
   "source": [
    "train_set = pd.read_csv('train.csv')\n",
    "test_set = pd.read_csv('test.csv')"
   ]
  },
  {
   "cell_type": "code",
   "execution_count": 3,
   "metadata": {},
   "outputs": [
    {
     "data": {
      "text/html": [
       "<div>\n",
       "<style scoped>\n",
       "    .dataframe tbody tr th:only-of-type {\n",
       "        vertical-align: middle;\n",
       "    }\n",
       "\n",
       "    .dataframe tbody tr th {\n",
       "        vertical-align: top;\n",
       "    }\n",
       "\n",
       "    .dataframe thead th {\n",
       "        text-align: right;\n",
       "    }\n",
       "</style>\n",
       "<table border=\"1\" class=\"dataframe\">\n",
       "  <thead>\n",
       "    <tr style=\"text-align: right;\">\n",
       "      <th></th>\n",
       "      <th>battery_power</th>\n",
       "      <th>blue</th>\n",
       "      <th>clock_speed</th>\n",
       "      <th>dual_sim</th>\n",
       "      <th>fc</th>\n",
       "      <th>four_g</th>\n",
       "      <th>int_memory</th>\n",
       "      <th>m_dep</th>\n",
       "      <th>mobile_wt</th>\n",
       "      <th>n_cores</th>\n",
       "      <th>...</th>\n",
       "      <th>px_height</th>\n",
       "      <th>px_width</th>\n",
       "      <th>ram</th>\n",
       "      <th>sc_h</th>\n",
       "      <th>sc_w</th>\n",
       "      <th>talk_time</th>\n",
       "      <th>three_g</th>\n",
       "      <th>touch_screen</th>\n",
       "      <th>wifi</th>\n",
       "      <th>price_range</th>\n",
       "    </tr>\n",
       "  </thead>\n",
       "  <tbody>\n",
       "    <tr>\n",
       "      <th>0</th>\n",
       "      <td>842</td>\n",
       "      <td>0</td>\n",
       "      <td>2.2</td>\n",
       "      <td>0</td>\n",
       "      <td>1</td>\n",
       "      <td>0</td>\n",
       "      <td>7</td>\n",
       "      <td>0.6</td>\n",
       "      <td>188</td>\n",
       "      <td>2</td>\n",
       "      <td>...</td>\n",
       "      <td>20</td>\n",
       "      <td>756</td>\n",
       "      <td>2549</td>\n",
       "      <td>9</td>\n",
       "      <td>7</td>\n",
       "      <td>19</td>\n",
       "      <td>0</td>\n",
       "      <td>0</td>\n",
       "      <td>1</td>\n",
       "      <td>1</td>\n",
       "    </tr>\n",
       "    <tr>\n",
       "      <th>1</th>\n",
       "      <td>1021</td>\n",
       "      <td>1</td>\n",
       "      <td>0.5</td>\n",
       "      <td>1</td>\n",
       "      <td>0</td>\n",
       "      <td>1</td>\n",
       "      <td>53</td>\n",
       "      <td>0.7</td>\n",
       "      <td>136</td>\n",
       "      <td>3</td>\n",
       "      <td>...</td>\n",
       "      <td>905</td>\n",
       "      <td>1988</td>\n",
       "      <td>2631</td>\n",
       "      <td>17</td>\n",
       "      <td>3</td>\n",
       "      <td>7</td>\n",
       "      <td>1</td>\n",
       "      <td>1</td>\n",
       "      <td>0</td>\n",
       "      <td>2</td>\n",
       "    </tr>\n",
       "    <tr>\n",
       "      <th>2</th>\n",
       "      <td>563</td>\n",
       "      <td>1</td>\n",
       "      <td>0.5</td>\n",
       "      <td>1</td>\n",
       "      <td>2</td>\n",
       "      <td>1</td>\n",
       "      <td>41</td>\n",
       "      <td>0.9</td>\n",
       "      <td>145</td>\n",
       "      <td>5</td>\n",
       "      <td>...</td>\n",
       "      <td>1263</td>\n",
       "      <td>1716</td>\n",
       "      <td>2603</td>\n",
       "      <td>11</td>\n",
       "      <td>2</td>\n",
       "      <td>9</td>\n",
       "      <td>1</td>\n",
       "      <td>1</td>\n",
       "      <td>0</td>\n",
       "      <td>2</td>\n",
       "    </tr>\n",
       "    <tr>\n",
       "      <th>3</th>\n",
       "      <td>615</td>\n",
       "      <td>1</td>\n",
       "      <td>2.5</td>\n",
       "      <td>0</td>\n",
       "      <td>0</td>\n",
       "      <td>0</td>\n",
       "      <td>10</td>\n",
       "      <td>0.8</td>\n",
       "      <td>131</td>\n",
       "      <td>6</td>\n",
       "      <td>...</td>\n",
       "      <td>1216</td>\n",
       "      <td>1786</td>\n",
       "      <td>2769</td>\n",
       "      <td>16</td>\n",
       "      <td>8</td>\n",
       "      <td>11</td>\n",
       "      <td>1</td>\n",
       "      <td>0</td>\n",
       "      <td>0</td>\n",
       "      <td>2</td>\n",
       "    </tr>\n",
       "    <tr>\n",
       "      <th>4</th>\n",
       "      <td>1821</td>\n",
       "      <td>1</td>\n",
       "      <td>1.2</td>\n",
       "      <td>0</td>\n",
       "      <td>13</td>\n",
       "      <td>1</td>\n",
       "      <td>44</td>\n",
       "      <td>0.6</td>\n",
       "      <td>141</td>\n",
       "      <td>2</td>\n",
       "      <td>...</td>\n",
       "      <td>1208</td>\n",
       "      <td>1212</td>\n",
       "      <td>1411</td>\n",
       "      <td>8</td>\n",
       "      <td>2</td>\n",
       "      <td>15</td>\n",
       "      <td>1</td>\n",
       "      <td>1</td>\n",
       "      <td>0</td>\n",
       "      <td>1</td>\n",
       "    </tr>\n",
       "  </tbody>\n",
       "</table>\n",
       "<p>5 rows × 21 columns</p>\n",
       "</div>"
      ],
      "text/plain": [
       "   battery_power  blue  clock_speed  dual_sim  fc  four_g  int_memory  m_dep  \\\n",
       "0            842     0          2.2         0   1       0           7    0.6   \n",
       "1           1021     1          0.5         1   0       1          53    0.7   \n",
       "2            563     1          0.5         1   2       1          41    0.9   \n",
       "3            615     1          2.5         0   0       0          10    0.8   \n",
       "4           1821     1          1.2         0  13       1          44    0.6   \n",
       "\n",
       "   mobile_wt  n_cores  ...  px_height  px_width   ram  sc_h  sc_w  talk_time  \\\n",
       "0        188        2  ...         20       756  2549     9     7         19   \n",
       "1        136        3  ...        905      1988  2631    17     3          7   \n",
       "2        145        5  ...       1263      1716  2603    11     2          9   \n",
       "3        131        6  ...       1216      1786  2769    16     8         11   \n",
       "4        141        2  ...       1208      1212  1411     8     2         15   \n",
       "\n",
       "   three_g  touch_screen  wifi  price_range  \n",
       "0        0             0     1            1  \n",
       "1        1             1     0            2  \n",
       "2        1             1     0            2  \n",
       "3        1             0     0            2  \n",
       "4        1             1     0            1  \n",
       "\n",
       "[5 rows x 21 columns]"
      ]
     },
     "execution_count": 3,
     "metadata": {},
     "output_type": "execute_result"
    }
   ],
   "source": [
    "train_set.head()"
   ]
  },
  {
   "cell_type": "code",
   "execution_count": 4,
   "metadata": {},
   "outputs": [
    {
     "data": {
      "text/html": [
       "<div>\n",
       "<style scoped>\n",
       "    .dataframe tbody tr th:only-of-type {\n",
       "        vertical-align: middle;\n",
       "    }\n",
       "\n",
       "    .dataframe tbody tr th {\n",
       "        vertical-align: top;\n",
       "    }\n",
       "\n",
       "    .dataframe thead th {\n",
       "        text-align: right;\n",
       "    }\n",
       "</style>\n",
       "<table border=\"1\" class=\"dataframe\">\n",
       "  <thead>\n",
       "    <tr style=\"text-align: right;\">\n",
       "      <th></th>\n",
       "      <th>id</th>\n",
       "      <th>battery_power</th>\n",
       "      <th>blue</th>\n",
       "      <th>clock_speed</th>\n",
       "      <th>dual_sim</th>\n",
       "      <th>fc</th>\n",
       "      <th>four_g</th>\n",
       "      <th>int_memory</th>\n",
       "      <th>m_dep</th>\n",
       "      <th>mobile_wt</th>\n",
       "      <th>...</th>\n",
       "      <th>pc</th>\n",
       "      <th>px_height</th>\n",
       "      <th>px_width</th>\n",
       "      <th>ram</th>\n",
       "      <th>sc_h</th>\n",
       "      <th>sc_w</th>\n",
       "      <th>talk_time</th>\n",
       "      <th>three_g</th>\n",
       "      <th>touch_screen</th>\n",
       "      <th>wifi</th>\n",
       "    </tr>\n",
       "  </thead>\n",
       "  <tbody>\n",
       "    <tr>\n",
       "      <th>0</th>\n",
       "      <td>1</td>\n",
       "      <td>1043</td>\n",
       "      <td>1</td>\n",
       "      <td>1.8</td>\n",
       "      <td>1</td>\n",
       "      <td>14</td>\n",
       "      <td>0</td>\n",
       "      <td>5</td>\n",
       "      <td>0.1</td>\n",
       "      <td>193</td>\n",
       "      <td>...</td>\n",
       "      <td>16</td>\n",
       "      <td>226</td>\n",
       "      <td>1412</td>\n",
       "      <td>3476</td>\n",
       "      <td>12</td>\n",
       "      <td>7</td>\n",
       "      <td>2</td>\n",
       "      <td>0</td>\n",
       "      <td>1</td>\n",
       "      <td>0</td>\n",
       "    </tr>\n",
       "    <tr>\n",
       "      <th>1</th>\n",
       "      <td>2</td>\n",
       "      <td>841</td>\n",
       "      <td>1</td>\n",
       "      <td>0.5</td>\n",
       "      <td>1</td>\n",
       "      <td>4</td>\n",
       "      <td>1</td>\n",
       "      <td>61</td>\n",
       "      <td>0.8</td>\n",
       "      <td>191</td>\n",
       "      <td>...</td>\n",
       "      <td>12</td>\n",
       "      <td>746</td>\n",
       "      <td>857</td>\n",
       "      <td>3895</td>\n",
       "      <td>6</td>\n",
       "      <td>0</td>\n",
       "      <td>7</td>\n",
       "      <td>1</td>\n",
       "      <td>0</td>\n",
       "      <td>0</td>\n",
       "    </tr>\n",
       "    <tr>\n",
       "      <th>2</th>\n",
       "      <td>3</td>\n",
       "      <td>1807</td>\n",
       "      <td>1</td>\n",
       "      <td>2.8</td>\n",
       "      <td>0</td>\n",
       "      <td>1</td>\n",
       "      <td>0</td>\n",
       "      <td>27</td>\n",
       "      <td>0.9</td>\n",
       "      <td>186</td>\n",
       "      <td>...</td>\n",
       "      <td>4</td>\n",
       "      <td>1270</td>\n",
       "      <td>1366</td>\n",
       "      <td>2396</td>\n",
       "      <td>17</td>\n",
       "      <td>10</td>\n",
       "      <td>10</td>\n",
       "      <td>0</td>\n",
       "      <td>1</td>\n",
       "      <td>1</td>\n",
       "    </tr>\n",
       "    <tr>\n",
       "      <th>3</th>\n",
       "      <td>4</td>\n",
       "      <td>1546</td>\n",
       "      <td>0</td>\n",
       "      <td>0.5</td>\n",
       "      <td>1</td>\n",
       "      <td>18</td>\n",
       "      <td>1</td>\n",
       "      <td>25</td>\n",
       "      <td>0.5</td>\n",
       "      <td>96</td>\n",
       "      <td>...</td>\n",
       "      <td>20</td>\n",
       "      <td>295</td>\n",
       "      <td>1752</td>\n",
       "      <td>3893</td>\n",
       "      <td>10</td>\n",
       "      <td>0</td>\n",
       "      <td>7</td>\n",
       "      <td>1</td>\n",
       "      <td>1</td>\n",
       "      <td>0</td>\n",
       "    </tr>\n",
       "    <tr>\n",
       "      <th>4</th>\n",
       "      <td>5</td>\n",
       "      <td>1434</td>\n",
       "      <td>0</td>\n",
       "      <td>1.4</td>\n",
       "      <td>0</td>\n",
       "      <td>11</td>\n",
       "      <td>1</td>\n",
       "      <td>49</td>\n",
       "      <td>0.5</td>\n",
       "      <td>108</td>\n",
       "      <td>...</td>\n",
       "      <td>18</td>\n",
       "      <td>749</td>\n",
       "      <td>810</td>\n",
       "      <td>1773</td>\n",
       "      <td>15</td>\n",
       "      <td>8</td>\n",
       "      <td>7</td>\n",
       "      <td>1</td>\n",
       "      <td>0</td>\n",
       "      <td>1</td>\n",
       "    </tr>\n",
       "  </tbody>\n",
       "</table>\n",
       "<p>5 rows × 21 columns</p>\n",
       "</div>"
      ],
      "text/plain": [
       "   id  battery_power  blue  clock_speed  dual_sim  fc  four_g  int_memory  \\\n",
       "0   1           1043     1          1.8         1  14       0           5   \n",
       "1   2            841     1          0.5         1   4       1          61   \n",
       "2   3           1807     1          2.8         0   1       0          27   \n",
       "3   4           1546     0          0.5         1  18       1          25   \n",
       "4   5           1434     0          1.4         0  11       1          49   \n",
       "\n",
       "   m_dep  mobile_wt  ...  pc  px_height  px_width   ram  sc_h  sc_w  \\\n",
       "0    0.1        193  ...  16        226      1412  3476    12     7   \n",
       "1    0.8        191  ...  12        746       857  3895     6     0   \n",
       "2    0.9        186  ...   4       1270      1366  2396    17    10   \n",
       "3    0.5         96  ...  20        295      1752  3893    10     0   \n",
       "4    0.5        108  ...  18        749       810  1773    15     8   \n",
       "\n",
       "   talk_time  three_g  touch_screen  wifi  \n",
       "0          2        0             1     0  \n",
       "1          7        1             0     0  \n",
       "2         10        0             1     1  \n",
       "3          7        1             1     0  \n",
       "4          7        1             0     1  \n",
       "\n",
       "[5 rows x 21 columns]"
      ]
     },
     "execution_count": 4,
     "metadata": {},
     "output_type": "execute_result"
    }
   ],
   "source": [
    "test_set.head()"
   ]
  },
  {
   "cell_type": "code",
   "execution_count": 5,
   "metadata": {},
   "outputs": [],
   "source": [
    "def acuracia(confusion_matrix):\n",
    "        soma_diagonal = confusion_matrix.trace()\n",
    "        soma_todos_elementos = confusion_matrix.sum()\n",
    "        return soma_diagonal / soma_todos_elementos"
   ]
  },
  {
   "cell_type": "code",
   "execution_count": 6,
   "metadata": {},
   "outputs": [],
   "source": [
    "sc = StandardScaler()\n",
    "train_set[['px_height', 'px_width', 'mobile_wt', 'ram', 'int_memory']] = sc.fit_transform(train_set[['px_height', 'px_width', 'mobile_wt', 'ram', 'int_memory']])"
   ]
  },
  {
   "cell_type": "code",
   "execution_count": 7,
   "metadata": {},
   "outputs": [],
   "source": [
    "#variaveis_continuas = train_set[['px_height', 'px_width', 'mobile_wt']].values / 100\n",
    "#variaveis_continuas = np.append(variaveis_continuas, train_set [['ram']].values / 200, axis = 1)\n",
    "#variaveis_continuas = np.append(variaveis_continuas, train_set [['int_memory']].values / 3, axis = 1)\n",
    "#variaveis_continuas = np.append(variaveis_continuas, train_set [['clock_speed', 'n_cores', 'pc', 'sc_h', 'sc_w', 'talk_time' ]].values , axis = 1)\n",
    "#variaveis_categoricas = train_set[['blue', 'dual_sim', 'four_g', 'three_g', 'touch_screen', 'wifi']].values\n",
    "\n",
    "#treino_x = np.concatenate ([variaveis_continuas, variaveis_categoricas], axis = 1)\n",
    "#treino_y = train_set['price_range'].values"
   ]
  },
  {
   "cell_type": "code",
   "execution_count": 8,
   "metadata": {},
   "outputs": [
    {
     "data": {
      "text/plain": [
       "['battery_power',\n",
       " 'blue',\n",
       " 'clock_speed',\n",
       " 'dual_sim',\n",
       " 'fc',\n",
       " 'four_g',\n",
       " 'int_memory',\n",
       " 'm_dep',\n",
       " 'mobile_wt',\n",
       " 'n_cores',\n",
       " 'pc',\n",
       " 'px_height',\n",
       " 'px_width',\n",
       " 'ram',\n",
       " 'sc_h',\n",
       " 'sc_w',\n",
       " 'talk_time',\n",
       " 'three_g',\n",
       " 'touch_screen',\n",
       " 'wifi',\n",
       " 'price_range']"
      ]
     },
     "execution_count": 8,
     "metadata": {},
     "output_type": "execute_result"
    }
   ],
   "source": [
    "train_set.columns.tolist()"
   ]
  },
  {
   "cell_type": "code",
   "execution_count": 9,
   "metadata": {},
   "outputs": [],
   "source": [
    "#Melhor resultado até o momento\n",
    "training_set, validation_set = train_test_split(train_set, test_size=0.2, random_state=21)\n",
    "X_train = training_set.iloc[:,0:-1].values\n",
    "X_train = np.delete(X_train, np.s_[1:12], axis = 1)\n",
    "Y_train = training_set.iloc[:,-1].values\n",
    "X_val = validation_set.iloc[:,0:-1].values\n",
    "X_val = np.delete(X_val, np.s_[1:12], axis = 1)\n",
    "y_val = validation_set.iloc[:,-1].values\n",
    "classificador = MLPClassifier(hidden_layer_sizes=(400,100,10), max_iter=200, activation = 'tanh', solver='adam', random_state=1)"
   ]
  },
  {
   "cell_type": "code",
   "execution_count": 10,
   "metadata": {},
   "outputs": [
    {
     "data": {
      "text/plain": [
       "MLPClassifier(activation='tanh', hidden_layer_sizes=(400, 100, 10),\n",
       "              random_state=1)"
      ]
     },
     "execution_count": 10,
     "metadata": {},
     "output_type": "execute_result"
    }
   ],
   "source": [
    "classificador.fit(X_train, Y_train)"
   ]
  },
  {
   "cell_type": "code",
   "execution_count": 11,
   "metadata": {},
   "outputs": [],
   "source": [
    "y_pred = classificador.predict(X_val)"
   ]
  },
  {
   "cell_type": "code",
   "execution_count": 12,
   "metadata": {},
   "outputs": [
    {
     "name": "stdout",
     "output_type": "stream",
     "text": [
      "[3 0 0 0 3 0 1 0 2 0 0 1 1 3 3 1 0 1 1 2 0 1 0 1 3 0 1 2 1 3 2 0 2 0 3 2 2\n",
      " 3 3 3 2 3 0 3 3 0 2 2 1 2 2 1 3 0 0 1 1 3 1 0 0 2 3 1 0 0 2 3 0 3 0 1 2 2\n",
      " 0 3 1 0 0 1 3 2 3 0 1 3 1 2 0 0 2 0 3 2 3 1 2 3 0 2 0 3 0 2 1 3 2 1 0 3 2\n",
      " 0 2 0 2 0 3 3 3 2 1 2 1 0 0 1 0 1 2 1 1 2 1 3 2 3 3 0 3 3 0 0 3 1 2 1 0 2\n",
      " 1 0 3 2 2 2 1 1 3 2 0 3 3 3 2 0 2 0 1 1 1 1 2 1 1 1 1 0 1 3 2 0 0 3 0 1 3\n",
      " 1 3 0 1 2 0 0 1 0 1 3 0 1 1 0 3 2 1 1 0 1 0 1 1 0 3 3 1 2 0 1 1 3 1 3 2 0\n",
      " 0 1 0 3 1 2 2 2 3 0 2 2 3 0 3 0 1 1 2 2 2 1 0 2 3 1 2 1 1 2 0 1 0 3 0 0 1\n",
      " 1 1 0 3 3 0 3 3 3 1 0 2 3 2 2 0 3 3 3 0 0 0 0 3 2 2 0 3 2 2 0 1 3 3 2 3 0\n",
      " 2 2 3 1 1 1 3 2 0 2 2 1 0 0 0 0 3 0 3 0 2 1 3 0 1 2 1 0 2 0 3 1 2 0 0 0 0\n",
      " 3 3 2 2 3 3 0 2 2 0 1 2 2 0 3 1 0 1 1 2 2 2 1 1 0 0 3 3 0 3 2 1 1 2 2 3 2\n",
      " 3 3 1 0 0 1 1 0 0 1 0 2 1 2 2 2 2 0 0 3 2 0 2 1 0 0 0 0 3 2]\n"
     ]
    }
   ],
   "source": [
    "print(y_pred)"
   ]
  },
  {
   "cell_type": "code",
   "execution_count": 13,
   "metadata": {},
   "outputs": [],
   "source": [
    "y_pred_pred = pd.DataFrame(y_pred)"
   ]
  },
  {
   "cell_type": "code",
   "execution_count": 14,
   "metadata": {},
   "outputs": [
    {
     "data": {
      "text/plain": [
       "<AxesSubplot:ylabel='Frequency'>"
      ]
     },
     "execution_count": 14,
     "metadata": {},
     "output_type": "execute_result"
    },
    {
     "data": {
      "image/png": "[encoded data removed]",
      "text/plain": [
       "<Figure size 432x288 with 1 Axes>"
      ]
     },
     "metadata": {
      "needs_background": "light"
     },
     "output_type": "display_data"
    }
   ],
   "source": [
    "y_pred_pred.plot.hist()"
   ]
  },
  {
   "cell_type": "code",
   "execution_count": 15,
   "metadata": {},
   "outputs": [],
   "source": [
    "cm = confusion_matrix(y_pred,y_val)"
   ]
  },
  {
   "cell_type": "code",
   "execution_count": 16,
   "metadata": {},
   "outputs": [
    {
     "name": "stdout",
     "output_type": "stream",
     "text": [
      "Accuracy of MLPClassifier  0.895\n"
     ]
    }
   ],
   "source": [
    "print(\"Accuracy of MLPClassifier \", acuracia(cm))"
   ]
  },
  {
   "cell_type": "code",
   "execution_count": 21,
   "metadata": {},
   "outputs": [
    {
     "name": "stdout",
     "output_type": "stream",
     "text": [
      "[[111   6   0   0]\n",
      " [  9  82   6   0]\n",
      " [  0   7  79   9]\n",
      " [  0   0   5  86]]\n"
     ]
    }
   ],
   "source": [
    "print(cm)"
   ]
  },
  {
   "cell_type": "code",
   "execution_count": 17,
   "metadata": {},
   "outputs": [],
   "source": [
    "test_set[['px_height', 'px_width', 'mobile_wt', 'ram', 'int_memory']] = sc.fit_transform(test_set[['px_height', 'px_width', 'mobile_wt', 'ram', 'int_memory']])\n",
    "X_test = test_set.iloc[:,0:-1].values\n",
    "X_test = np.delete(X_test, np.s_[1:12], axis = 1)\n",
    "y_pred = classificador.predict(X_test)"
   ]
  },
  {
   "cell_type": "code",
   "execution_count": 18,
   "metadata": {},
   "outputs": [
    {
     "name": "stdout",
     "output_type": "stream",
     "text": [
      "[1 0 3 3 0 0 3 3 0 0 0 3 3 3 2 3 2 0 2 0 3 2 2 0 2 1 0 0 0 0 1 0 3 0 3 2 2\n",
      " 0 0 0 3 0 0 0 0 1 0 3 2 0 0 0 2 0 2 0 3 3 0 0 0 0 0 0 0 1 2 1 1 2 0 2 0 2\n",
      " 2 0 0 1 0 1 0 1 1 1 0 2 0 0 0 0 0 1 0 2 0 0 2 0 1 0 0 2 0 3 0 0 3 0 0 0 0\n",
      " 1 0 0 2 0 0 3 2 2 0 0 0 0 1 2 1 0 2 3 0 2 0 0 2 2 0 2 1 1 0 0 0 2 0 2 2 0\n",
      " 2 0 0 1 1 0 1 0 2 0 0 0 1 1 1 3 2 0 0 1 3 0 0 0 2 2 1 1 0 2 0 1 2 0 0 2 0\n",
      " 2 2 2 1 0 1 2 1 2 1 1 2 1 2 0 0 0 2 0 1 2 2 1 1 0 0 2 0 3 0 3 0 1 1 0 1 0\n",
      " 2 1 1 2 2 0 3 0 1 0 0 2 0 2 0 0 1 0 2 0 2 0 1 1 2 0 2 0 0 1 1 0 1 1 2 1 0\n",
      " 2 0 1 0 0 1 0 2 0 1 0 1 2 1 0 1 2 2 2 1 0 1 2 0 1 2 1 0 0 0 0 3 0 1 1 2 2\n",
      " 1 0 0 1 0 0 2 2 1 2 0 1 1 2 2 0 0 1 3 0 2 2 0 0 0 1 0 2 2 1 0 0 0 0 0 2 2\n",
      " 0 0 0 0 0 0 1 0 0 0 0 1 2 1 1 1 0 2 0 0 1 0 2 0 2 2 3 2 0 2 1 1 1 0 0 0 2\n",
      " 1 0 2 0 1 1 0 1 1 2 0 0 3 1 2 0 0 2 2 0 0 0 1 0 1 0 1 1 0 0 0 0 2 0 0 0 2\n",
      " 2 0 1 2 1 1 1 1 2 0 1 0 1 0 0 1 0 1 1 3 0 2 2 1 2 0 2 0 0 0 0 0 0 1 1 1 1\n",
      " 0 2 1 1 0 0 0 0 0 1 0 0 1 0 2 3 0 2 2 0 2 0 0 3 2 2 0 2 0 1 2 2 2 2 2 1 1\n",
      " 3 0 0 2 2 0 3 0 2 1 2 2 0 0 0 0 0 1 2 0 0 1 1 1 1 1 0 2 0 0 2 0 0 2 2 0 0\n",
      " 2 0 1 0 1 1 1 1 1 0 1 3 0 1 0 1 2 0 0 0 1 2 3 2 0 2 2 0 0 1 0 1 2 1 1 1 2\n",
      " 0 3 0 2 0 1 2 1 2 2 1 0 2 2 0 2 0 0 0 0 1 0 2 0 0 1 1 1 0 0 2 2 0 3 2 1 1\n",
      " 2 1 1 2 1 0 0 2 0 1 2 0 3 3 0 0 2 0 2 3 1 0 1 0 2 0 0 0 3 1 0 0 2 2 1 0 0\n",
      " 2 1 1 2 2 0 0 0 0 3 3 0 2 2 1 1 2 0 0 1 1 2 2 1 1 1 1 3 1 0 2 1 2 2 1 0 0\n",
      " 0 1 2 0 1 0 0 1 3 0 1 0 0 2 0 2 0 1 1 2 2 1 3 2 2 1 1 2 1 0 0 0 0 1 1 0 2\n",
      " 2 1 0 3 0 0 1 0 0 1 1 2 0 2 0 2 2 2 1 0 1 0 0 1 0 1 0 0 0 3 0 2 0 0 0 0 2\n",
      " 1 0 2 1 0 1 3 0 1 0 0 0 2 2 2 2 2 2 1 1 1 0 0 0 1 2 2 0 1 2 3 0 1 0 0 0 0\n",
      " 1 1 1 2 2 1 1 0 0 2 2 0 0 2 0 2 1 2 0 2 0 0 0 1 3 1 0 1 2 0 0 1 0 2 0 0 2\n",
      " 2 2 0 0 1 0 0 1 1 1 1 2 0 1 2 2 3 2 0 2 0 0 0 0 2 1 2 0 3 1 1 2 1 0 2 2 1\n",
      " 1 1 0 1 0 0 2 0 1 2 0 0 0 0 2 0 0 0 0 1 2 2 2 0 0 1 0 0 1 1 1 1 1 2 2 2 3\n",
      " 2 0 1 2 2 1 1 0 1 0 0 1 1 2 0 2 2 2 2 0 2 0 1 0 2 2 1 0 2 0 3 2 1 1 2 0 2\n",
      " 2 0 0 0 2 1 0 2 0 2 0 2 1 3 2 3 1 2 0 0 1 1 0 3 1 0 0 0 1 2 1 2 2 0 0 2 2\n",
      " 1 3 3 2 1 2 0 0 0 0 1 2 3 3 0 1 0 1 1 0 3 2 1 2 0 1 0 2 0 1 2 1 0 0 2 0 0\n",
      " 0]\n"
     ]
    }
   ],
   "source": [
    "print(y_pred)"
   ]
  },
  {
   "cell_type": "code",
   "execution_count": 19,
   "metadata": {},
   "outputs": [],
   "source": [
    "y_pred_test = pd.DataFrame(y_pred)"
   ]
  },
  {
   "cell_type": "code",
   "execution_count": 20,
   "metadata": {},
   "outputs": [
    {
     "data": {
      "text/plain": [
       "<AxesSubplot:ylabel='Frequency'>"
      ]
     },
     "execution_count": 20,
     "metadata": {},
     "output_type": "execute_result"
    },
    {
     "data": {
      "image/png": "[encoded data removed]",
      "text/plain": [
       "<Figure size 432x288 with 1 Axes>"
      ]
     },
     "metadata": {
      "needs_background": "light"
     },
     "output_type": "display_data"
    }
   ],
   "source": [
    "y_pred_test.plot.hist()"
   ]
  },
  {
   "cell_type": "code",
   "execution_count": null,
   "metadata": {},
   "outputs": [],
   "source": []
  },
  {
   "cell_type": "code",
   "execution_count": null,
   "metadata": {},
   "outputs": [],
   "source": []
  },
  {
   "cell_type": "code",
   "execution_count": null,
   "metadata": {},
   "outputs": [],
   "source": []
  }
 ],
 "metadata": {
  "kernelspec": {
   "display_name": "Python 3",
   "language": "python",
   "name": "python3"
  },
  "language_info": {
   "codemirror_mode": {
    "name": "ipython",
    "version": 3
   },
   "file_extension": ".py",
   "mimetype": "text/x-python",
   "name": "python",
   "nbconvert_exporter": "python",
   "pygments_lexer": "ipython3",
   "version": "3.8.5"
  }
 },
 "nbformat": 4,
 "nbformat_minor": 5
}
